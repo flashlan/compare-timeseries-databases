{
 "cells": [
  {
   "cell_type": "markdown",
   "id": "7f1f5a4a-ae34-4a27-9efa-399edc0e384a",
   "metadata": {
    "tags": []
   },
   "source": [
    "## Benchmark: ClickHouse Vs. InfluxDB Vs. Postgresql Vs. Parquet \n",
    "\n",
    "-----\n",
    "\n",
    "#### How to use:\n",
    "* Rename the file \"properties-model.ini\" to \"properties.ini\"\n",
    "* Fill with your own credentials\n",
    "----\n",
    "\n",
    "The proposal of this work is to compare the speed in read/writing a midle level of data ( a dataset with 9 columns and 50.000 lines) to four diferent databases:\n",
    "\n",
    "* [ClickHouse](#ClickHouse)\n",
    "* [InfluxDB](#InfluxDB)\n",
    "* [Postgresql](#Postgresql)\n",
    "* [Parquet (in a S3 Minio Storage)](#S3-Parquet))\n",
    "* [MongoDB](#MongoDB)\n",
    "* [DuckDB](#DuckDB)\n",
    "* [Kdb+](#Kdb+)\n",
    "\n"
   ]
  },
  {
   "cell_type": "markdown",
   "id": "6bb26ce7-1e84-4665-accd-916bb977f95d",
   "metadata": {
    "tags": []
   },
   "source": [
    "### Imports "
   ]
  },
  {
   "cell_type": "code",
   "execution_count": 170,
   "id": "ab6c6c81-6ac1-4668-a79b-a9a0341fb35a",
   "metadata": {
    "tags": []
   },
   "outputs": [
    {
     "data": {
      "text/plain": [
       "False"
      ]
     },
     "execution_count": 170,
     "metadata": {},
     "output_type": "execute_result"
    }
   ],
   "source": [
    "import configparser\n",
    "import io\n",
    "import timeit\n",
    "from datetime import datetime\n",
    "\n",
    "import duckdb\n",
    "import influxdb_client\n",
    "import matplotlib.pyplot as plt\n",
    "import numpy as np\n",
    "import pandas as pd\n",
    "import pdmongo as pdm\n",
    "from clickhouse_driver import Client\n",
    "from dotenv import load_dotenv\n",
    "from minio import Minio\n",
    "from pymongo import MongoClient\n",
    "from pytz import timezone\n",
    "from qbstyles import mpl_style\n",
    "from qpython import qconnection\n",
    "from sqlalchemy import create_engine\n",
    "\n",
    "load_dotenv()"
   ]
  },
  {
   "cell_type": "code",
   "execution_count": 89,
   "id": "55c3cd57-0996-4723-beb5-8f3196c96009",
   "metadata": {
    "tags": []
   },
   "outputs": [],
   "source": [
    "# Variables\n",
    "dbname = \"EURUSDtest\"\n",
    "collection = \"finance\""
   ]
  },
  {
   "cell_type": "code",
   "execution_count": 50,
   "id": "968403e3-2e5e-4834-b969-be4600e2963a",
   "metadata": {
    "tags": []
   },
   "outputs": [],
   "source": [
    "arq = configparser.RawConfigParser()\n",
    "arq.read(\"properties.ini\")\n",
    "ClickHouseUser = arq.get(\"CLICKHOUSE\", \"user\")\n",
    "ClickHouseKey = arq.get(\"CLICKHOUSE\", \"key\")\n",
    "ClickHouseUrl = arq.get(\"CLICKHOUSE\", \"url\")\n",
    "\n",
    "InfluxDBUser = arq.get(\"INFLUXDB\", \"user\")\n",
    "InfluxDBKey = arq.get(\"INFLUXDB\", \"key\")\n",
    "InfluxDBUrl = arq.get(\"INFLUXDB\", \"url\")\n",
    "InfluxDBBucket = arq.get(\"INFLUXDB\", \"bucket\")\n",
    "\n",
    "PostgresqlUser = arq.get(\"POSTGRESQL\", \"user\")\n",
    "PostgresqlKey = arq.get(\"POSTGRESQL\", \"key\")\n",
    "PostgresqlUrl = arq.get(\"POSTGRESQL\", \"url\")\n",
    "PostgresqlDB = arq.get(\"POSTGRESQL\", \"database\")\n",
    "\n",
    "S3MinioUser = arq.get(\"S3MINIO\", \"user\")\n",
    "S3MinioKey = arq.get(\"S3MINIO\", \"key\")\n",
    "S3MinioUrl = arq.get(\"S3MINIO\", \"url\")\n",
    "S3MinioRegion = arq.get(\"S3MINIO\", \"region\")\n",
    "\n",
    "MongoUser = arq.get(\"MONGODB\", \"user\")\n",
    "MongoKey = arq.get(\"MONGODB\", \"key\")\n",
    "MongoUrl = arq.get(\"MONGODB\", \"url\")"
   ]
  },
  {
   "cell_type": "code",
   "execution_count": 51,
   "id": "3634a4ec-04c2-4f1e-8659-5d22eb17a254",
   "metadata": {},
   "outputs": [
    {
     "data": {
      "text/html": [
       "<div>\n",
       "<style scoped>\n",
       "    .dataframe tbody tr th:only-of-type {\n",
       "        vertical-align: middle;\n",
       "    }\n",
       "\n",
       "    .dataframe tbody tr th {\n",
       "        vertical-align: top;\n",
       "    }\n",
       "\n",
       "    .dataframe thead th {\n",
       "        text-align: right;\n",
       "    }\n",
       "</style>\n",
       "<table border=\"1\" class=\"dataframe\">\n",
       "  <thead>\n",
       "    <tr style=\"text-align: right;\">\n",
       "      <th></th>\n",
       "      <th>id</th>\n",
       "      <th>from</th>\n",
       "      <th>at</th>\n",
       "      <th>to</th>\n",
       "      <th>open</th>\n",
       "      <th>close</th>\n",
       "      <th>min</th>\n",
       "      <th>max</th>\n",
       "      <th>volume</th>\n",
       "    </tr>\n",
       "  </thead>\n",
       "  <tbody>\n",
       "    <tr>\n",
       "      <th>999995</th>\n",
       "      <td>7984748</td>\n",
       "      <td>2023-03-03 18:13:30</td>\n",
       "      <td>1677867225000000000</td>\n",
       "      <td>2023-03-03 18:13:45</td>\n",
       "      <td>1.062695</td>\n",
       "      <td>1.062635</td>\n",
       "      <td>1.062630</td>\n",
       "      <td>1.062700</td>\n",
       "      <td>64</td>\n",
       "    </tr>\n",
       "    <tr>\n",
       "      <th>999996</th>\n",
       "      <td>7984749</td>\n",
       "      <td>2023-03-03 18:13:45</td>\n",
       "      <td>1677867240000000000</td>\n",
       "      <td>2023-03-03 18:14:00</td>\n",
       "      <td>1.062645</td>\n",
       "      <td>1.062650</td>\n",
       "      <td>1.062625</td>\n",
       "      <td>1.062650</td>\n",
       "      <td>43</td>\n",
       "    </tr>\n",
       "    <tr>\n",
       "      <th>999997</th>\n",
       "      <td>7984750</td>\n",
       "      <td>2023-03-03 18:14:00</td>\n",
       "      <td>1677867255000000000</td>\n",
       "      <td>2023-03-03 18:14:15</td>\n",
       "      <td>1.062640</td>\n",
       "      <td>1.062625</td>\n",
       "      <td>1.062620</td>\n",
       "      <td>1.062665</td>\n",
       "      <td>47</td>\n",
       "    </tr>\n",
       "    <tr>\n",
       "      <th>999998</th>\n",
       "      <td>7984751</td>\n",
       "      <td>2023-03-03 18:14:15</td>\n",
       "      <td>1677867270000000000</td>\n",
       "      <td>2023-03-03 18:14:30</td>\n",
       "      <td>1.062625</td>\n",
       "      <td>1.062535</td>\n",
       "      <td>1.062535</td>\n",
       "      <td>1.062645</td>\n",
       "      <td>43</td>\n",
       "    </tr>\n",
       "    <tr>\n",
       "      <th>999999</th>\n",
       "      <td>7984752</td>\n",
       "      <td>2023-03-03 18:14:30</td>\n",
       "      <td>1677867285000000000</td>\n",
       "      <td>2023-03-03 18:14:45</td>\n",
       "      <td>1.062535</td>\n",
       "      <td>1.062520</td>\n",
       "      <td>1.062520</td>\n",
       "      <td>1.062580</td>\n",
       "      <td>59</td>\n",
       "    </tr>\n",
       "  </tbody>\n",
       "</table>\n",
       "</div>"
      ],
      "text/plain": [
       "             id                 from                   at  \\\n",
       "999995  7984748  2023-03-03 18:13:30  1677867225000000000   \n",
       "999996  7984749  2023-03-03 18:13:45  1677867240000000000   \n",
       "999997  7984750  2023-03-03 18:14:00  1677867255000000000   \n",
       "999998  7984751  2023-03-03 18:14:15  1677867270000000000   \n",
       "999999  7984752  2023-03-03 18:14:30  1677867285000000000   \n",
       "\n",
       "                         to      open     close       min       max  volume  \n",
       "999995  2023-03-03 18:13:45  1.062695  1.062635  1.062630  1.062700      64  \n",
       "999996  2023-03-03 18:14:00  1.062645  1.062650  1.062625  1.062650      43  \n",
       "999997  2023-03-03 18:14:15  1.062640  1.062625  1.062620  1.062665      47  \n",
       "999998  2023-03-03 18:14:30  1.062625  1.062535  1.062535  1.062645      43  \n",
       "999999  2023-03-03 18:14:45  1.062535  1.062520  1.062520  1.062580      59  "
      ]
     },
     "execution_count": 51,
     "metadata": {},
     "output_type": "execute_result"
    }
   ],
   "source": [
    "# %%time\n",
    "# Load Dataset\n",
    "df = pd.read_csv(\"out.csv\", index_col=0)\n",
    "df.tail()"
   ]
  },
  {
   "cell_type": "code",
   "execution_count": null,
   "id": "76199f91-31d6-416b-9f15-5d435b3792c9",
   "metadata": {},
   "outputs": [],
   "source": [
    "df[\"from\"] = pd.to_datetime(df[\"from\"], unit=\"s\")\n",
    "df[\"to\"] = pd.to_datetime(df[\"to\"], unit=\"s\")\n",
    "# Optional use when not transoformed yet\n",
    "# Transform Datetime"
   ]
  },
  {
   "cell_type": "markdown",
   "id": "274cc026-2f48-4e38-b80f-b1a9ff982060",
   "metadata": {
    "tags": []
   },
   "source": [
    "#### Funçoes\n",
    "\n",
    "-> Class"
   ]
  },
  {
   "cell_type": "code",
   "execution_count": 5,
   "id": "27de1ec8-4de1-440a-b555-b4a46c5ef7ce",
   "metadata": {},
   "outputs": [],
   "source": [
    "def timestamp2dataHora(x, timezone_=\"America/Sao_Paulo\"):\n",
    "    d = datetime.fromtimestamp(x, tz=timezone(timezone_))\n",
    "    return d"
   ]
  },
  {
   "cell_type": "markdown",
   "id": "4a8d5703-9bc9-4d38-83ff-457159304d58",
   "metadata": {
    "tags": []
   },
   "source": [
    "### ClickHouse"
   ]
  },
  {
   "cell_type": "code",
   "execution_count": 62,
   "id": "c3202bbb-2655-45b2-b166-9f45a3ef854c",
   "metadata": {
    "tags": []
   },
   "outputs": [
    {
     "data": {
      "text/plain": [
       "'Database created'"
      ]
     },
     "execution_count": 62,
     "metadata": {},
     "output_type": "execute_result"
    }
   ],
   "source": [
    "# !! driver tcp.\n",
    "def cHouseConnect():\n",
    "    client = Client(\n",
    "        host=ClickHouseUrl,\n",
    "        user=ClickHouseUser,\n",
    "        password=ClickHouseKey,\n",
    "        settings={\"use_numpy\": True},\n",
    "    )\n",
    "    return client\n",
    "\n",
    "\n",
    "def cHouseDropTables(databasename):\n",
    "    client = cHouseConnect()\n",
    "    client.execute(\"DROP TABLE {}\".format(databasename))\n",
    "    client.disconnect()\n",
    "    return \"Database deleted\"\n",
    "\n",
    "\n",
    "# Create Tables in ClickHouse\n",
    "# !! ALTERAR TIPOS !!\n",
    "# ENGINE: 'Memory' desaparece quando server é reiniciado\n",
    "def cHouseCreateDb(databasename):\n",
    "    client = cHouseConnect()\n",
    "    client.execute(\n",
    "        \"CREATE TABLE IF NOT EXISTS {} (id UInt32,\"\n",
    "        \"from DateTime, at UInt64, to DateTime, open Float64,\"\n",
    "        \"close Float64, min Float64, max  Float64, volume UInt32)\"\n",
    "        \"ENGINE MergeTree ORDER BY to\".format(databasename)\n",
    "    )\n",
    "    client.disconnect()\n",
    "    return \"Database created\"\n",
    "\n",
    "\n",
    "# Write dataframe to db\n",
    "def cHouseInsertDf(dbName, dataframe):\n",
    "    client = cHouseConnect()\n",
    "    client.insert_dataframe(\"INSERT INTO {} VALUES\".format(dbName), dataframe)\n",
    "    client.disconnect()\n",
    "    return \" dataframe {} inserted in clickhouse database\".format(dataframe)\n",
    "\n",
    "\n",
    "def cHouseQueryDf(databaseName):\n",
    "    client = cHouseConnect()\n",
    "    dfQuery = client.query_dataframe(\"SELECT * FROM default.{}\".format(databaseName))\n",
    "    client.disconnect()\n",
    "    return dfQuery\n",
    "\n",
    "\n",
    "cHouseCreateDb(dbname)"
   ]
  },
  {
   "cell_type": "code",
   "execution_count": 63,
   "id": "cc4865b3-a1bc-4a35-9624-15334754b3a1",
   "metadata": {},
   "outputs": [],
   "source": [
    "# Insert to db and benchmark time\n",
    "start = timeit.default_timer()\n",
    "cHouseInsertDf(dbname, df)\n",
    "stop = timeit.default_timer()\n",
    "cHouse_write_execution_time = stop - start"
   ]
  },
  {
   "cell_type": "code",
   "execution_count": 64,
   "id": "1fac82c1-2d04-44ef-893a-dc13b755e6d8",
   "metadata": {},
   "outputs": [],
   "source": [
    "# read from db and benchmark time\n",
    "start = timeit.default_timer()\n",
    "dfCh = cHouseQueryDf(dbname)\n",
    "stop = timeit.default_timer()\n",
    "cHouse_read_execution_time = stop - start"
   ]
  },
  {
   "cell_type": "code",
   "execution_count": 57,
   "id": "597ae7bd-2eea-44d7-b379-f0eb7e745c15",
   "metadata": {
    "tags": []
   },
   "outputs": [
    {
     "data": {
      "text/html": [
       "<div>\n",
       "<style scoped>\n",
       "    .dataframe tbody tr th:only-of-type {\n",
       "        vertical-align: middle;\n",
       "    }\n",
       "\n",
       "    .dataframe tbody tr th {\n",
       "        vertical-align: top;\n",
       "    }\n",
       "\n",
       "    .dataframe thead th {\n",
       "        text-align: right;\n",
       "    }\n",
       "</style>\n",
       "<table border=\"1\" class=\"dataframe\">\n",
       "  <thead>\n",
       "    <tr style=\"text-align: right;\">\n",
       "      <th></th>\n",
       "      <th>id</th>\n",
       "      <th>from</th>\n",
       "      <th>at</th>\n",
       "      <th>to</th>\n",
       "      <th>open</th>\n",
       "      <th>close</th>\n",
       "      <th>min</th>\n",
       "      <th>max</th>\n",
       "      <th>volume</th>\n",
       "    </tr>\n",
       "  </thead>\n",
       "  <tbody>\n",
       "    <tr>\n",
       "      <th>1999995</th>\n",
       "      <td>8083054</td>\n",
       "      <td>2023-03-28 18:54:00</td>\n",
       "      <td>1680029655003247667</td>\n",
       "      <td>2023-03-28 18:54:15</td>\n",
       "      <td>1.084015</td>\n",
       "      <td>1.084015</td>\n",
       "      <td>1.083995</td>\n",
       "      <td>1.084040</td>\n",
       "      <td>42</td>\n",
       "    </tr>\n",
       "    <tr>\n",
       "      <th>1999996</th>\n",
       "      <td>8083055</td>\n",
       "      <td>2023-03-28 18:54:15</td>\n",
       "      <td>1680029670000000000</td>\n",
       "      <td>2023-03-28 18:54:30</td>\n",
       "      <td>1.084020</td>\n",
       "      <td>1.083950</td>\n",
       "      <td>1.083940</td>\n",
       "      <td>1.084045</td>\n",
       "      <td>55</td>\n",
       "    </tr>\n",
       "    <tr>\n",
       "      <th>1999997</th>\n",
       "      <td>8083055</td>\n",
       "      <td>2023-03-28 18:54:15</td>\n",
       "      <td>1680029670000000000</td>\n",
       "      <td>2023-03-28 18:54:30</td>\n",
       "      <td>1.084020</td>\n",
       "      <td>1.083950</td>\n",
       "      <td>1.083940</td>\n",
       "      <td>1.084045</td>\n",
       "      <td>55</td>\n",
       "    </tr>\n",
       "    <tr>\n",
       "      <th>1999998</th>\n",
       "      <td>8083056</td>\n",
       "      <td>2023-03-28 18:54:30</td>\n",
       "      <td>1680029685000000000</td>\n",
       "      <td>2023-03-28 18:54:45</td>\n",
       "      <td>1.083965</td>\n",
       "      <td>1.083955</td>\n",
       "      <td>1.083945</td>\n",
       "      <td>1.083975</td>\n",
       "      <td>40</td>\n",
       "    </tr>\n",
       "    <tr>\n",
       "      <th>1999999</th>\n",
       "      <td>8083056</td>\n",
       "      <td>2023-03-28 18:54:30</td>\n",
       "      <td>1680029685000000000</td>\n",
       "      <td>2023-03-28 18:54:45</td>\n",
       "      <td>1.083965</td>\n",
       "      <td>1.083955</td>\n",
       "      <td>1.083945</td>\n",
       "      <td>1.083975</td>\n",
       "      <td>40</td>\n",
       "    </tr>\n",
       "  </tbody>\n",
       "</table>\n",
       "</div>"
      ],
      "text/plain": [
       "              id                from                   at                  to  \\\n",
       "1999995  8083054 2023-03-28 18:54:00  1680029655003247667 2023-03-28 18:54:15   \n",
       "1999996  8083055 2023-03-28 18:54:15  1680029670000000000 2023-03-28 18:54:30   \n",
       "1999997  8083055 2023-03-28 18:54:15  1680029670000000000 2023-03-28 18:54:30   \n",
       "1999998  8083056 2023-03-28 18:54:30  1680029685000000000 2023-03-28 18:54:45   \n",
       "1999999  8083056 2023-03-28 18:54:30  1680029685000000000 2023-03-28 18:54:45   \n",
       "\n",
       "             open     close       min       max  volume  \n",
       "1999995  1.084015  1.084015  1.083995  1.084040      42  \n",
       "1999996  1.084020  1.083950  1.083940  1.084045      55  \n",
       "1999997  1.084020  1.083950  1.083940  1.084045      55  \n",
       "1999998  1.083965  1.083955  1.083945  1.083975      40  \n",
       "1999999  1.083965  1.083955  1.083945  1.083975      40  "
      ]
     },
     "execution_count": 57,
     "metadata": {},
     "output_type": "execute_result"
    }
   ],
   "source": [
    "dfCh.tail()"
   ]
  },
  {
   "cell_type": "code",
   "execution_count": 65,
   "id": "86794e47-611f-4ca8-a7e8-07e71afafe67",
   "metadata": {
    "tags": []
   },
   "outputs": [
    {
     "name": "stdout",
     "output_type": "stream",
     "text": [
      "7.571660671004793\n"
     ]
    }
   ],
   "source": [
    "print(cHouse_read_execution_time)"
   ]
  },
  {
   "cell_type": "code",
   "execution_count": 66,
   "id": "e7926062-8e84-4d3f-90a9-32807ce4f3d4",
   "metadata": {
    "tags": []
   },
   "outputs": [
    {
     "name": "stdout",
     "output_type": "stream",
     "text": [
      "5.804937635999522\n"
     ]
    }
   ],
   "source": [
    "print(cHouse_write_execution_time)"
   ]
  },
  {
   "cell_type": "code",
   "execution_count": 60,
   "id": "8faa5683-a204-461d-80c3-67644aa714ce",
   "metadata": {
    "tags": []
   },
   "outputs": [
    {
     "data": {
      "text/plain": [
       "'Database deleted'"
      ]
     },
     "execution_count": 60,
     "metadata": {},
     "output_type": "execute_result"
    }
   ],
   "source": [
    "# Utils\n",
    "# %%time\n",
    "# dfCh = cHouseQueryDf(dbname)\n",
    "# drop table\n",
    "cHouseDropTables(dbname)"
   ]
  },
  {
   "cell_type": "markdown",
   "id": "1d389546-911f-43f7-aad1-49f7bcc83503",
   "metadata": {
    "tags": []
   },
   "source": [
    "### InfluxDB\n"
   ]
  },
  {
   "cell_type": "code",
   "execution_count": 68,
   "id": "ecd217ab-0e16-40a6-9b92-9212b9bb20e9",
   "metadata": {
    "tags": []
   },
   "outputs": [],
   "source": [
    "query = \"\"\"\n",
    "from(bucket: \"EURUSDtest\")\n",
    "|> range(start:2023-03-03T18:14:30Z, stop: now())\n",
    "|> filter(fn: (r) => r._measurement == \"id\")\n",
    "|> pivot(rowKey:[\"_time\"], columnKey: [\"_field\"], valueColumn: \"_value\")\"\"\""
   ]
  },
  {
   "cell_type": "code",
   "execution_count": 69,
   "id": "c3e7ebfd-76f1-4ac4-9833-312eb1a531af",
   "metadata": {},
   "outputs": [],
   "source": [
    "def influxdbConnect():\n",
    "    client = influxdb_client.InfluxDBClient(\n",
    "        url=InfluxDBUrl, token=InfluxDBKey, org=InfluxDBUser\n",
    "    )\n",
    "    return client\n",
    "\n",
    "\n",
    "def influxdbLoadCsv(csv=\"out.csv\", dictDates=[\"from\", \"to\"], index=\"from\"):\n",
    "    # Read data from CSV without index and parse 'TimeStamp' as date.\n",
    "    df = pd.read_csv(csv, sep=\",\", index_col=False, parse_dates=dictDates)\n",
    "    # Set 'TimeStamp' field as index of dataframe # test another indexs\n",
    "    df.set_index(index, inplace=True)\n",
    "    return df\n",
    "\n",
    "\n",
    "def influxdbWriteCsv(dataFrame, bucket, measurement=\"id\", tag=\"volume\"):\n",
    "    client = influxdbConnect()\n",
    "    # write_options=SYNCHRONOUS\n",
    "    with client.write_api() as writer:\n",
    "        writer.write(\n",
    "            bucket=bucket,\n",
    "            record=dataFrame,\n",
    "            data_frame_measurement_name=measurement,\n",
    "            data_frame_tag_columns=[tag],\n",
    "        )\n",
    "    writer.__del__()\n",
    "    client.__del__()\n",
    "    return 0\n",
    "\n",
    "\n",
    "def influxdRead(org=InfluxDBUrl, query=query):\n",
    "    client = influxdbConnect()\n",
    "    InfluxDf = client.query_api().query_data_frame(org=\"librography\", query=query)\n",
    "    # display(InfluxDf.head())\n",
    "    return InfluxDf"
   ]
  },
  {
   "cell_type": "code",
   "execution_count": 83,
   "id": "4be399bb-6b69-4f2b-aac0-9eab03cebfff",
   "metadata": {
    "tags": []
   },
   "outputs": [],
   "source": [
    "def delete_data(measurement=\"id\", bucket=InfluxDBBucket, org=\"librography\"):\n",
    "    client = influxdbConnect()\n",
    "    delete_api = client.delete_api()\n",
    "    start = \"1970-01-01T00:00:00Z\"\n",
    "    stop = \"2024-10-30T00:00:00Z\"\n",
    "    delete_api.delete(start, stop, f'_measurement=\"{measurement}\"', bucket, org)"
   ]
  },
  {
   "cell_type": "code",
   "execution_count": null,
   "id": "baab1b7c-8f09-4d5e-8275-8588b4b5dd9d",
   "metadata": {
    "tags": []
   },
   "outputs": [],
   "source": [
    "delete_data()"
   ]
  },
  {
   "cell_type": "code",
   "execution_count": 70,
   "id": "e05266b8-ff32-462c-b059-325a40a53d25",
   "metadata": {
    "tags": []
   },
   "outputs": [],
   "source": [
    "dafr = influxdbLoadCsv()\n",
    "# dafr.head()"
   ]
  },
  {
   "cell_type": "code",
   "execution_count": 74,
   "id": "95191283-f11e-456f-8395-36981ab1ac51",
   "metadata": {},
   "outputs": [],
   "source": [
    "start = timeit.default_timer()\n",
    "influxdbWriteCsv(dafr, InfluxDBBucket)\n",
    "# dfIdw = cHouseQueryDf(dbname)\n",
    "stop = timeit.default_timer()\n",
    "influxdb_write_execution_time = stop - start"
   ]
  },
  {
   "cell_type": "code",
   "execution_count": 75,
   "id": "3e5bb029-4988-4692-bc5f-9a6f7fcc2159",
   "metadata": {},
   "outputs": [
    {
     "name": "stdout",
     "output_type": "stream",
     "text": [
      "87.55419652500132\n"
     ]
    }
   ],
   "source": [
    "print(influxdb_write_execution_time)"
   ]
  },
  {
   "cell_type": "code",
   "execution_count": 78,
   "id": "850c6921-5e1c-417a-bea6-ea18be642008",
   "metadata": {
    "tags": []
   },
   "outputs": [],
   "source": [
    "# read from db and benchmark time\n",
    "start = timeit.default_timer()\n",
    "influxdRead()\n",
    "stop = timeit.default_timer()\n",
    "influxdb_read_execution_time = stop - start"
   ]
  },
  {
   "cell_type": "code",
   "execution_count": 79,
   "id": "3ee3c0dd-cb70-4124-a0fb-db8dd2c134c0",
   "metadata": {
    "tags": []
   },
   "outputs": [
    {
     "name": "stdout",
     "output_type": "stream",
     "text": [
      "69.66793818100268\n"
     ]
    }
   ],
   "source": [
    "print(influxdb_read_execution_time)"
   ]
  },
  {
   "cell_type": "code",
   "execution_count": 80,
   "id": "54342a28-ba2b-4ade-a692-00566b53a639",
   "metadata": {
    "tags": []
   },
   "outputs": [
    {
     "data": {
      "text/html": [
       "<div>\n",
       "<style scoped>\n",
       "    .dataframe tbody tr th:only-of-type {\n",
       "        vertical-align: middle;\n",
       "    }\n",
       "\n",
       "    .dataframe tbody tr th {\n",
       "        vertical-align: top;\n",
       "    }\n",
       "\n",
       "    .dataframe thead th {\n",
       "        text-align: right;\n",
       "    }\n",
       "</style>\n",
       "<table border=\"1\" class=\"dataframe\">\n",
       "  <thead>\n",
       "    <tr style=\"text-align: right;\">\n",
       "      <th></th>\n",
       "      <th>Write Time</th>\n",
       "      <th>Read Time</th>\n",
       "      <th>Total Time</th>\n",
       "    </tr>\n",
       "  </thead>\n",
       "  <tbody>\n",
       "    <tr>\n",
       "      <th>Click House</th>\n",
       "      <td>5.80 sec</td>\n",
       "      <td>7.57 sec</td>\n",
       "      <td>13.38 sec</td>\n",
       "    </tr>\n",
       "    <tr>\n",
       "      <th>Kdb+</th>\n",
       "      <td>2.87 sec</td>\n",
       "      <td>4.15 sec</td>\n",
       "      <td>7.03 sec</td>\n",
       "    </tr>\n",
       "    <tr>\n",
       "      <th>r2</th>\n",
       "      <td>fill</td>\n",
       "      <td>15</td>\n",
       "      <td>0</td>\n",
       "    </tr>\n",
       "    <tr>\n",
       "      <th>r3</th>\n",
       "      <td>fill</td>\n",
       "      <td>14</td>\n",
       "      <td>0</td>\n",
       "    </tr>\n",
       "  </tbody>\n",
       "</table>\n",
       "</div>"
      ],
      "text/plain": [
       "            Write Time Read Time Total Time\n",
       "Click House   5.80 sec  7.57 sec  13.38 sec\n",
       "Kdb+          2.87 sec  4.15 sec   7.03 sec\n",
       "r2                fill        15          0\n",
       "r3                fill        14          0"
      ]
     },
     "execution_count": 80,
     "metadata": {},
     "output_type": "execute_result"
    }
   ],
   "source": [
    "df.tail()"
   ]
  },
  {
   "cell_type": "markdown",
   "id": "b9ddfdc6-c899-4f6c-9b4e-8ec6ab6d7e05",
   "metadata": {
    "tags": []
   },
   "source": [
    "### Postgresql"
   ]
  },
  {
   "cell_type": "code",
   "execution_count": 201,
   "id": "16cd8eb7-333d-43fd-88e0-ee983645d3fd",
   "metadata": {},
   "outputs": [
    {
     "data": {
      "text/html": [
       "<div>\n",
       "<style scoped>\n",
       "    .dataframe tbody tr th:only-of-type {\n",
       "        vertical-align: middle;\n",
       "    }\n",
       "\n",
       "    .dataframe tbody tr th {\n",
       "        vertical-align: top;\n",
       "    }\n",
       "\n",
       "    .dataframe thead th {\n",
       "        text-align: right;\n",
       "    }\n",
       "</style>\n",
       "<table border=\"1\" class=\"dataframe\">\n",
       "  <thead>\n",
       "    <tr style=\"text-align: right;\">\n",
       "      <th></th>\n",
       "      <th>id</th>\n",
       "      <th>from</th>\n",
       "      <th>at</th>\n",
       "      <th>to</th>\n",
       "      <th>open</th>\n",
       "      <th>close</th>\n",
       "      <th>min</th>\n",
       "      <th>max</th>\n",
       "      <th>volume</th>\n",
       "    </tr>\n",
       "  </thead>\n",
       "  <tbody>\n",
       "    <tr>\n",
       "      <th>999995</th>\n",
       "      <td>7984748</td>\n",
       "      <td>2023-03-03 18:13:30</td>\n",
       "      <td>1677867225000000000</td>\n",
       "      <td>2023-03-03 18:13:45</td>\n",
       "      <td>1.062695</td>\n",
       "      <td>1.062635</td>\n",
       "      <td>1.062630</td>\n",
       "      <td>1.062700</td>\n",
       "      <td>64</td>\n",
       "    </tr>\n",
       "    <tr>\n",
       "      <th>999996</th>\n",
       "      <td>7984749</td>\n",
       "      <td>2023-03-03 18:13:45</td>\n",
       "      <td>1677867240000000000</td>\n",
       "      <td>2023-03-03 18:14:00</td>\n",
       "      <td>1.062645</td>\n",
       "      <td>1.062650</td>\n",
       "      <td>1.062625</td>\n",
       "      <td>1.062650</td>\n",
       "      <td>43</td>\n",
       "    </tr>\n",
       "    <tr>\n",
       "      <th>999997</th>\n",
       "      <td>7984750</td>\n",
       "      <td>2023-03-03 18:14:00</td>\n",
       "      <td>1677867255000000000</td>\n",
       "      <td>2023-03-03 18:14:15</td>\n",
       "      <td>1.062640</td>\n",
       "      <td>1.062625</td>\n",
       "      <td>1.062620</td>\n",
       "      <td>1.062665</td>\n",
       "      <td>47</td>\n",
       "    </tr>\n",
       "    <tr>\n",
       "      <th>999998</th>\n",
       "      <td>7984751</td>\n",
       "      <td>2023-03-03 18:14:15</td>\n",
       "      <td>1677867270000000000</td>\n",
       "      <td>2023-03-03 18:14:30</td>\n",
       "      <td>1.062625</td>\n",
       "      <td>1.062535</td>\n",
       "      <td>1.062535</td>\n",
       "      <td>1.062645</td>\n",
       "      <td>43</td>\n",
       "    </tr>\n",
       "    <tr>\n",
       "      <th>999999</th>\n",
       "      <td>7984752</td>\n",
       "      <td>2023-03-03 18:14:30</td>\n",
       "      <td>1677867285000000000</td>\n",
       "      <td>2023-03-03 18:14:45</td>\n",
       "      <td>1.062535</td>\n",
       "      <td>1.062520</td>\n",
       "      <td>1.062520</td>\n",
       "      <td>1.062580</td>\n",
       "      <td>59</td>\n",
       "    </tr>\n",
       "  </tbody>\n",
       "</table>\n",
       "</div>"
      ],
      "text/plain": [
       "             id                 from                   at  \\\n",
       "999995  7984748  2023-03-03 18:13:30  1677867225000000000   \n",
       "999996  7984749  2023-03-03 18:13:45  1677867240000000000   \n",
       "999997  7984750  2023-03-03 18:14:00  1677867255000000000   \n",
       "999998  7984751  2023-03-03 18:14:15  1677867270000000000   \n",
       "999999  7984752  2023-03-03 18:14:30  1677867285000000000   \n",
       "\n",
       "                         to      open     close       min       max  volume  \n",
       "999995  2023-03-03 18:13:45  1.062695  1.062635  1.062630  1.062700      64  \n",
       "999996  2023-03-03 18:14:00  1.062645  1.062650  1.062625  1.062650      43  \n",
       "999997  2023-03-03 18:14:15  1.062640  1.062625  1.062620  1.062665      47  \n",
       "999998  2023-03-03 18:14:30  1.062625  1.062535  1.062535  1.062645      43  \n",
       "999999  2023-03-03 18:14:45  1.062535  1.062520  1.062520  1.062580      59  "
      ]
     },
     "execution_count": 201,
     "metadata": {},
     "output_type": "execute_result"
    }
   ],
   "source": [
    "# Connect / Create Tables\n",
    "def psqlConnect():\n",
    "    engine = create_engine(\n",
    "        \"postgresql+psycopg2://{}:{}@{}:5432/{}\".format(\n",
    "            PostgresqlUser, PostgresqlKey, PostgresqlUrl, PostgresqlDB\n",
    "        )\n",
    "    )\n",
    "    return engine\n",
    "\n",
    "\n",
    "psqlConnect()\n",
    "# testar função\n",
    "df = pd.read_csv(\"out.csv\", index_col=0)\n",
    "df.tail()"
   ]
  },
  {
   "cell_type": "code",
   "execution_count": 204,
   "id": "be31f3a0-b7ed-48e6-9b65-dc16319fb8d1",
   "metadata": {},
   "outputs": [],
   "source": [
    "# Drop old table and create new empty table\n",
    "def psqlCreateTables(databaseName):\n",
    "    engine = psqlConnect()\n",
    "    df.head(0).to_sql(databaseName, engine, if_exists=\"replace\", index=False)\n",
    "    # Write\n",
    "    conn = engine.raw_connection()\n",
    "    cur = conn.cursor()\n",
    "    output = io.StringIO()\n",
    "    df.to_csv(output, sep=\"\\t\", header=False, index=False)\n",
    "    output.seek(0)\n",
    "    contents = output.getvalue()\n",
    "    cur.copy_from(output, \"EURUSDtest\")  # , null=\"\")  # null values become ''\n",
    "    conn.commit()\n",
    "    cur.close()\n",
    "    conn.close()\n",
    "    # disconnect()\n",
    "    return 0\n",
    "\n",
    "\n",
    "# funcao read sql\n",
    "def psqlReadTables():\n",
    "    engine = psqlConnect()\n",
    "    df = pd.read_sql_query('select * from \"EURUSDtest\"', con=engine)\n",
    "    return df\n",
    "\n",
    "\n",
    "# testar função"
   ]
  },
  {
   "cell_type": "code",
   "execution_count": 205,
   "id": "98cc9360-4b84-43e4-b23b-b32d0c50c3b9",
   "metadata": {
    "tags": []
   },
   "outputs": [],
   "source": [
    "# Insert to db and benchmark time\n",
    "start = timeit.default_timer()\n",
    "psqlCreateTables(dbname)\n",
    "stop = timeit.default_timer()\n",
    "psql_write_execution_time = stop - start"
   ]
  },
  {
   "cell_type": "code",
   "execution_count": 206,
   "id": "75b7a130-92e3-4af1-9e1c-a285622c8996",
   "metadata": {
    "tags": []
   },
   "outputs": [
    {
     "name": "stdout",
     "output_type": "stream",
     "text": [
      "24.818096771996352\n"
     ]
    }
   ],
   "source": [
    "print(psql_write_execution_time)"
   ]
  },
  {
   "cell_type": "code",
   "execution_count": 207,
   "id": "82e1b44e-35af-403f-9936-5e1561fd5abf",
   "metadata": {
    "tags": []
   },
   "outputs": [],
   "source": [
    "start = timeit.default_timer()\n",
    "psqlReadTables()\n",
    "stop = timeit.default_timer()\n",
    "psql_read_execution_time = stop - start"
   ]
  },
  {
   "cell_type": "code",
   "execution_count": 208,
   "id": "6d1b7480-5bc7-4f08-8cf3-b9590802d8f7",
   "metadata": {
    "tags": []
   },
   "outputs": [
    {
     "name": "stdout",
     "output_type": "stream",
     "text": [
      "18.282347426000342\n"
     ]
    }
   ],
   "source": [
    "print(psql_read_execution_time)"
   ]
  },
  {
   "cell_type": "code",
   "execution_count": 96,
   "id": "6acb2959-3255-43bd-aea5-9ef70acc8902",
   "metadata": {
    "tags": []
   },
   "outputs": [],
   "source": [
    "# df.head()"
   ]
  },
  {
   "cell_type": "markdown",
   "id": "f9e0393d-7d1d-406a-a068-9dbf4968e977",
   "metadata": {
    "tags": []
   },
   "source": [
    "### S3-Parquet"
   ]
  },
  {
   "cell_type": "code",
   "execution_count": 99,
   "id": "7c7022bf-9c3b-400a-9045-b089483f05ad",
   "metadata": {
    "tags": []
   },
   "outputs": [],
   "source": [
    "# fazer sem funçao para ver se melhora\n",
    "# verifique se esta no ssd os arquivos da pasta git\n",
    "def s3Connect():\n",
    "    client = Minio(\n",
    "        S3MinioUrl,\n",
    "        secure=False,\n",
    "        region=S3MinioRegion,\n",
    "        access_key=S3MinioUser,\n",
    "        secret_key=S3MinioKey,\n",
    "    )\n",
    "    return client\n",
    "\n",
    "\n",
    "def s3CreateBucket(bucketName=\"data\"):\n",
    "    client = s3Connect()\n",
    "    found = client.bucket_exists(bucketName)\n",
    "    if not found:\n",
    "        return client.make_bucket(bucketName)\n",
    "    else:\n",
    "        return \"Bucket '{}' already exists\".format(bucketName)\n",
    "\n",
    "\n",
    "def s3uploadCsv():\n",
    "    client = s3Connect()\n",
    "    client.fput_object(\n",
    "        \"data\",\n",
    "        \"data.parquet\",\n",
    "        \"data/data.parquet\",\n",
    "    )\n",
    "    return (\n",
    "        \"'data/data.parquet' is successfully uploaded as \"\n",
    "        \"object 'data.parquet' to bucket 'data'.\"\n",
    "    )"
   ]
  },
  {
   "cell_type": "code",
   "execution_count": 100,
   "id": "cd7fe012-9eee-4f91-8c07-8e0148633766",
   "metadata": {
    "tags": []
   },
   "outputs": [],
   "source": [
    "# Insert to db and benchmark time\n",
    "df.to_parquet(\"data/data.parquet\")\n",
    "s3CreateBucket()\n",
    "start = timeit.default_timer()\n",
    "s3uploadCsv()\n",
    "stop = timeit.default_timer()\n",
    "s3_write_execution_time = stop - start"
   ]
  },
  {
   "cell_type": "code",
   "execution_count": null,
   "id": "a803e870-1970-496f-b678-a7f8866870cf",
   "metadata": {},
   "outputs": [],
   "source": [
    "# falta read (parquet to df)"
   ]
  },
  {
   "cell_type": "code",
   "execution_count": 101,
   "id": "390918c8-c88f-404a-96c4-685d578fdad0",
   "metadata": {
    "tags": []
   },
   "outputs": [
    {
     "name": "stdout",
     "output_type": "stream",
     "text": [
      "4.160801975995128\n"
     ]
    }
   ],
   "source": [
    "print(s3_write_execution_time)"
   ]
  },
  {
   "cell_type": "code",
   "execution_count": 102,
   "id": "666d4bc7-933d-4e6e-87c1-72fd37e61e0d",
   "metadata": {
    "tags": []
   },
   "outputs": [],
   "source": [
    "start = timeit.default_timer()\n",
    "pq = pd.read_parquet(\"data/data.parquet\", engine=\"pyarrow\")\n",
    "stop = timeit.default_timer()\n",
    "s3_read_execution_time = stop - start"
   ]
  },
  {
   "cell_type": "code",
   "execution_count": 106,
   "id": "573b10c3-5dfe-420a-a988-688d4ebcde24",
   "metadata": {
    "tags": []
   },
   "outputs": [
    {
     "data": {
      "text/html": [
       "<div>\n",
       "<style scoped>\n",
       "    .dataframe tbody tr th:only-of-type {\n",
       "        vertical-align: middle;\n",
       "    }\n",
       "\n",
       "    .dataframe tbody tr th {\n",
       "        vertical-align: top;\n",
       "    }\n",
       "\n",
       "    .dataframe thead th {\n",
       "        text-align: right;\n",
       "    }\n",
       "</style>\n",
       "<table border=\"1\" class=\"dataframe\">\n",
       "  <thead>\n",
       "    <tr style=\"text-align: right;\">\n",
       "      <th></th>\n",
       "      <th>id</th>\n",
       "      <th>from</th>\n",
       "      <th>at</th>\n",
       "      <th>to</th>\n",
       "      <th>open</th>\n",
       "      <th>close</th>\n",
       "      <th>min</th>\n",
       "      <th>max</th>\n",
       "      <th>volume</th>\n",
       "    </tr>\n",
       "  </thead>\n",
       "  <tbody>\n",
       "    <tr>\n",
       "      <th>0</th>\n",
       "      <td>7730801</td>\n",
       "      <td>2023-01-02 15:58:45</td>\n",
       "      <td>1672675140000000000</td>\n",
       "      <td>2023-01-02 15:59:00</td>\n",
       "      <td>1.065995</td>\n",
       "      <td>1.066035</td>\n",
       "      <td>1.065930</td>\n",
       "      <td>1.066070</td>\n",
       "      <td>57</td>\n",
       "    </tr>\n",
       "    <tr>\n",
       "      <th>1</th>\n",
       "      <td>7730802</td>\n",
       "      <td>2023-01-02 15:59:00</td>\n",
       "      <td>1672675155000000000</td>\n",
       "      <td>2023-01-02 15:59:15</td>\n",
       "      <td>1.066055</td>\n",
       "      <td>1.066085</td>\n",
       "      <td>1.066005</td>\n",
       "      <td>1.066115</td>\n",
       "      <td>52</td>\n",
       "    </tr>\n",
       "    <tr>\n",
       "      <th>2</th>\n",
       "      <td>7730803</td>\n",
       "      <td>2023-01-02 15:59:15</td>\n",
       "      <td>1672675170000000000</td>\n",
       "      <td>2023-01-02 15:59:30</td>\n",
       "      <td>1.066080</td>\n",
       "      <td>1.066025</td>\n",
       "      <td>1.066025</td>\n",
       "      <td>1.066110</td>\n",
       "      <td>57</td>\n",
       "    </tr>\n",
       "    <tr>\n",
       "      <th>3</th>\n",
       "      <td>7730804</td>\n",
       "      <td>2023-01-02 15:59:30</td>\n",
       "      <td>1672675185000000000</td>\n",
       "      <td>2023-01-02 15:59:45</td>\n",
       "      <td>1.065980</td>\n",
       "      <td>1.065985</td>\n",
       "      <td>1.065885</td>\n",
       "      <td>1.066045</td>\n",
       "      <td>64</td>\n",
       "    </tr>\n",
       "    <tr>\n",
       "      <th>4</th>\n",
       "      <td>7730805</td>\n",
       "      <td>2023-01-02 15:59:45</td>\n",
       "      <td>1672675200000000000</td>\n",
       "      <td>2023-01-02 16:00:00</td>\n",
       "      <td>1.065975</td>\n",
       "      <td>1.066055</td>\n",
       "      <td>1.065830</td>\n",
       "      <td>1.066055</td>\n",
       "      <td>50</td>\n",
       "    </tr>\n",
       "  </tbody>\n",
       "</table>\n",
       "</div>"
      ],
      "text/plain": [
       "        id                 from                   at                   to  \\\n",
       "0  7730801  2023-01-02 15:58:45  1672675140000000000  2023-01-02 15:59:00   \n",
       "1  7730802  2023-01-02 15:59:00  1672675155000000000  2023-01-02 15:59:15   \n",
       "2  7730803  2023-01-02 15:59:15  1672675170000000000  2023-01-02 15:59:30   \n",
       "3  7730804  2023-01-02 15:59:30  1672675185000000000  2023-01-02 15:59:45   \n",
       "4  7730805  2023-01-02 15:59:45  1672675200000000000  2023-01-02 16:00:00   \n",
       "\n",
       "       open     close       min       max  volume  \n",
       "0  1.065995  1.066035  1.065930  1.066070      57  \n",
       "1  1.066055  1.066085  1.066005  1.066115      52  \n",
       "2  1.066080  1.066025  1.066025  1.066110      57  \n",
       "3  1.065980  1.065985  1.065885  1.066045      64  \n",
       "4  1.065975  1.066055  1.065830  1.066055      50  "
      ]
     },
     "execution_count": 106,
     "metadata": {},
     "output_type": "execute_result"
    }
   ],
   "source": [
    "pq.head()"
   ]
  },
  {
   "cell_type": "code",
   "execution_count": 103,
   "id": "fefb54f6-9040-4fd7-9861-20322c202d92",
   "metadata": {
    "tags": []
   },
   "outputs": [
    {
     "name": "stdout",
     "output_type": "stream",
     "text": [
      "0.5090432809956837\n"
     ]
    }
   ],
   "source": [
    "print(s3_read_execution_time)"
   ]
  },
  {
   "cell_type": "markdown",
   "id": "50d1fc58-89a7-4507-aff0-6e943656cfe0",
   "metadata": {
    "tags": []
   },
   "source": [
    "### MongoDB"
   ]
  },
  {
   "cell_type": "code",
   "execution_count": 107,
   "id": "d104d9af-fa34-4261-8478-329a28ee4f2e",
   "metadata": {
    "tags": []
   },
   "outputs": [],
   "source": [
    "port = \"27017\"\n",
    "\n",
    "\n",
    "def mongoLoadCsv(csvfile):\n",
    "    data = pd.read_csv(\"out.csv\")\n",
    "    return data\n",
    "\n",
    "\n",
    "def mongoConnect():\n",
    "    client = MongoClient(\n",
    "        \"mongodb://{}:{}@{}/EURUSDtest?retryWrites=true&w=majority\".format(\n",
    "            MongoUser, MongoKey, MongoUrl\n",
    "        ),\n",
    "        authSource=\"admin\",\n",
    "    )\n",
    "    return client\n",
    "\n",
    "\n",
    "def mongoWriteDict(dados, dbs, collection):\n",
    "    client = mongoConnect()\n",
    "    db = client[dbs]\n",
    "    collection = db[collection]\n",
    "    # data.reset_index(inplace=True)\n",
    "    data_dict = dados.to_dict(\"records\")\n",
    "    # return data_dict\n",
    "    collection.insert_many(data_dict)\n",
    "    return 0\n",
    "\n",
    "\n",
    "def mongoRead():\n",
    "    df = pdm.read_mongo(\n",
    "        collection, [], \"mongodb://192.168.1.162:27017/{}\".format(dbname)\n",
    "    )\n",
    "    return df"
   ]
  },
  {
   "cell_type": "code",
   "execution_count": 108,
   "id": "739de6aa-313f-4ccd-96c8-fa22d0cc687e",
   "metadata": {
    "tags": []
   },
   "outputs": [
    {
     "data": {
      "text/html": [
       "<div>\n",
       "<style scoped>\n",
       "    .dataframe tbody tr th:only-of-type {\n",
       "        vertical-align: middle;\n",
       "    }\n",
       "\n",
       "    .dataframe tbody tr th {\n",
       "        vertical-align: top;\n",
       "    }\n",
       "\n",
       "    .dataframe thead th {\n",
       "        text-align: right;\n",
       "    }\n",
       "</style>\n",
       "<table border=\"1\" class=\"dataframe\">\n",
       "  <thead>\n",
       "    <tr style=\"text-align: right;\">\n",
       "      <th></th>\n",
       "      <th>Unnamed: 0</th>\n",
       "      <th>id</th>\n",
       "      <th>from</th>\n",
       "      <th>at</th>\n",
       "      <th>to</th>\n",
       "      <th>open</th>\n",
       "      <th>close</th>\n",
       "      <th>min</th>\n",
       "      <th>max</th>\n",
       "      <th>volume</th>\n",
       "    </tr>\n",
       "  </thead>\n",
       "  <tbody>\n",
       "    <tr>\n",
       "      <th>0</th>\n",
       "      <td>0</td>\n",
       "      <td>7730801</td>\n",
       "      <td>2023-01-02 15:58:45</td>\n",
       "      <td>1672675140000000000</td>\n",
       "      <td>2023-01-02 15:59:00</td>\n",
       "      <td>1.065995</td>\n",
       "      <td>1.066035</td>\n",
       "      <td>1.065930</td>\n",
       "      <td>1.066070</td>\n",
       "      <td>57</td>\n",
       "    </tr>\n",
       "    <tr>\n",
       "      <th>1</th>\n",
       "      <td>1</td>\n",
       "      <td>7730802</td>\n",
       "      <td>2023-01-02 15:59:00</td>\n",
       "      <td>1672675155000000000</td>\n",
       "      <td>2023-01-02 15:59:15</td>\n",
       "      <td>1.066055</td>\n",
       "      <td>1.066085</td>\n",
       "      <td>1.066005</td>\n",
       "      <td>1.066115</td>\n",
       "      <td>52</td>\n",
       "    </tr>\n",
       "    <tr>\n",
       "      <th>2</th>\n",
       "      <td>2</td>\n",
       "      <td>7730803</td>\n",
       "      <td>2023-01-02 15:59:15</td>\n",
       "      <td>1672675170000000000</td>\n",
       "      <td>2023-01-02 15:59:30</td>\n",
       "      <td>1.066080</td>\n",
       "      <td>1.066025</td>\n",
       "      <td>1.066025</td>\n",
       "      <td>1.066110</td>\n",
       "      <td>57</td>\n",
       "    </tr>\n",
       "    <tr>\n",
       "      <th>3</th>\n",
       "      <td>3</td>\n",
       "      <td>7730804</td>\n",
       "      <td>2023-01-02 15:59:30</td>\n",
       "      <td>1672675185000000000</td>\n",
       "      <td>2023-01-02 15:59:45</td>\n",
       "      <td>1.065980</td>\n",
       "      <td>1.065985</td>\n",
       "      <td>1.065885</td>\n",
       "      <td>1.066045</td>\n",
       "      <td>64</td>\n",
       "    </tr>\n",
       "    <tr>\n",
       "      <th>4</th>\n",
       "      <td>4</td>\n",
       "      <td>7730805</td>\n",
       "      <td>2023-01-02 15:59:45</td>\n",
       "      <td>1672675200000000000</td>\n",
       "      <td>2023-01-02 16:00:00</td>\n",
       "      <td>1.065975</td>\n",
       "      <td>1.066055</td>\n",
       "      <td>1.065830</td>\n",
       "      <td>1.066055</td>\n",
       "      <td>50</td>\n",
       "    </tr>\n",
       "  </tbody>\n",
       "</table>\n",
       "</div>"
      ],
      "text/plain": [
       "   Unnamed: 0       id                 from                   at  \\\n",
       "0           0  7730801  2023-01-02 15:58:45  1672675140000000000   \n",
       "1           1  7730802  2023-01-02 15:59:00  1672675155000000000   \n",
       "2           2  7730803  2023-01-02 15:59:15  1672675170000000000   \n",
       "3           3  7730804  2023-01-02 15:59:30  1672675185000000000   \n",
       "4           4  7730805  2023-01-02 15:59:45  1672675200000000000   \n",
       "\n",
       "                    to      open     close       min       max  volume  \n",
       "0  2023-01-02 15:59:00  1.065995  1.066035  1.065930  1.066070      57  \n",
       "1  2023-01-02 15:59:15  1.066055  1.066085  1.066005  1.066115      52  \n",
       "2  2023-01-02 15:59:30  1.066080  1.066025  1.066025  1.066110      57  \n",
       "3  2023-01-02 15:59:45  1.065980  1.065985  1.065885  1.066045      64  \n",
       "4  2023-01-02 16:00:00  1.065975  1.066055  1.065830  1.066055      50  "
      ]
     },
     "execution_count": 108,
     "metadata": {},
     "output_type": "execute_result"
    }
   ],
   "source": [
    "data = mongoLoadCsv(\"out.csv\")\n",
    "data.head()"
   ]
  },
  {
   "cell_type": "code",
   "execution_count": 109,
   "id": "0af8f72c-5b58-4dfc-af36-c5b4bc79f127",
   "metadata": {
    "tags": []
   },
   "outputs": [],
   "source": [
    "start = timeit.default_timer()\n",
    "dfCh = mongoWriteDict(data, dbname, \"finance\")\n",
    "stop = timeit.default_timer()\n",
    "mongo_write_execution_time = stop - start"
   ]
  },
  {
   "cell_type": "code",
   "execution_count": 110,
   "id": "0757f14c-4677-41d3-90d8-63b884e24e7e",
   "metadata": {
    "tags": []
   },
   "outputs": [
    {
     "name": "stdout",
     "output_type": "stream",
     "text": [
      "54.566006569999445\n"
     ]
    }
   ],
   "source": [
    "print(mongo_write_execution_time)"
   ]
  },
  {
   "cell_type": "code",
   "execution_count": 111,
   "id": "e7922312-74cb-4df3-8dea-e5ee0d99fab7",
   "metadata": {
    "tags": []
   },
   "outputs": [],
   "source": [
    "start = timeit.default_timer()\n",
    "dfMongo = mongoRead()\n",
    "stop = timeit.default_timer()\n",
    "mongo_read_execution_time = stop - start"
   ]
  },
  {
   "cell_type": "code",
   "execution_count": 112,
   "id": "93fb22ea-b283-4447-b774-fe755a782223",
   "metadata": {
    "tags": []
   },
   "outputs": [
    {
     "name": "stdout",
     "output_type": "stream",
     "text": [
      "34.66374846499821\n"
     ]
    }
   ],
   "source": [
    "print(mongo_read_execution_time)"
   ]
  },
  {
   "cell_type": "markdown",
   "id": "97405e42-61dc-42c7-8220-237a312c0ec7",
   "metadata": {
    "tags": []
   },
   "source": [
    "### DuckDB"
   ]
  },
  {
   "cell_type": "code",
   "execution_count": 119,
   "id": "bbcdb883-d6dc-46db-88db-4c90b84522ba",
   "metadata": {},
   "outputs": [],
   "source": [
    "# https://duckdb.org/2022/07/27/art-storage.html\n",
    "\n",
    "\n",
    "def duckdbConnect():\n",
    "    cursor = duckdb.connect()\n",
    "    return cursor\n",
    "\n",
    "\n",
    "def duckdbLoadCsv(csvFile=\"out.csv\"):\n",
    "    data = pd.read_csv(csvFile)\n",
    "    return data\n",
    "\n",
    "\n",
    "# write\n",
    "def duckdbWrite(file, dataframe, tableName):\n",
    "    conn = duckdbConnect()\n",
    "    conn = duckdb.connect(file)\n",
    "    # conn.execute(\"DROP TABLE EURUSDtest\")\n",
    "    # conn.sql('CREATE TABLE EURUSDtest(i INTEGER)')\n",
    "    conn.register(\"tempTable\", dataframe)\n",
    "    conn.execute(\"CREATE TABLE {} AS SELECT * FROM tempTable\".format(tableName))\n",
    "    conn.close()\n",
    "    return 0\n",
    "\n",
    "\n",
    "def duckdbRead(dbfile):\n",
    "    conn = duckdbConnect()\n",
    "    conn = duckdb.connect(dbfile)\n",
    "    conn.execute(\"SELECT * FROM {}\".format(dbname)).fetchdf()\n",
    "    conn.close()\n",
    "    return 0"
   ]
  },
  {
   "cell_type": "code",
   "execution_count": 120,
   "id": "1c787f48-5640-4eb5-9456-be8f0a8211eb",
   "metadata": {
    "tags": []
   },
   "outputs": [],
   "source": [
    "data = duckdbLoadCsv()"
   ]
  },
  {
   "cell_type": "code",
   "execution_count": null,
   "id": "f07f03d0-021e-4dc3-bfa8-efc029a9797a",
   "metadata": {
    "tags": []
   },
   "outputs": [],
   "source": [
    "conn = duckdbConnect()\n",
    "conn.execute(\"DROP TABLE EURUSDtest\")"
   ]
  },
  {
   "cell_type": "code",
   "execution_count": 74,
   "id": "45620be8-34c6-4a3a-89f7-09337f665c90",
   "metadata": {
    "tags": []
   },
   "outputs": [
    {
     "data": {
      "text/plain": [
       "<duckdb.DuckDBPyConnection at 0x7f925fb29b30>"
      ]
     },
     "execution_count": 74,
     "metadata": {},
     "output_type": "execute_result"
    }
   ],
   "source": [
    "conn.register(\"EURUSDtest\", data)"
   ]
  },
  {
   "cell_type": "code",
   "execution_count": 84,
   "id": "9eb19431-fbad-43b4-84f7-0043e65de162",
   "metadata": {
    "tags": []
   },
   "outputs": [
    {
     "data": {
      "text/html": [
       "<div>\n",
       "<style scoped>\n",
       "    .dataframe tbody tr th:only-of-type {\n",
       "        vertical-align: middle;\n",
       "    }\n",
       "\n",
       "    .dataframe tbody tr th {\n",
       "        vertical-align: top;\n",
       "    }\n",
       "\n",
       "    .dataframe thead th {\n",
       "        text-align: right;\n",
       "    }\n",
       "</style>\n",
       "<table border=\"1\" class=\"dataframe\">\n",
       "  <thead>\n",
       "    <tr style=\"text-align: right;\">\n",
       "      <th></th>\n",
       "      <th>name</th>\n",
       "    </tr>\n",
       "  </thead>\n",
       "  <tbody>\n",
       "    <tr>\n",
       "      <th>0</th>\n",
       "      <td>EURUSDtest</td>\n",
       "    </tr>\n",
       "  </tbody>\n",
       "</table>\n",
       "</div>"
      ],
      "text/plain": [
       "         name\n",
       "0  EURUSDtest"
      ]
     },
     "metadata": {},
     "output_type": "display_data"
    }
   ],
   "source": [
    "conn = duckdb.connect(\"file.db\")\n",
    "# conn.execute(\"DROP TABLE EURUSDtest\")\n",
    "# conn.sql(\"CREATE TABLE EURUSDtest(i INTEGER)\")\n",
    "display(conn.execute(\"SHOW TABLES\").df())"
   ]
  },
  {
   "cell_type": "code",
   "execution_count": null,
   "id": "32037939-def0-48e7-9a47-46bcf1a5883c",
   "metadata": {
    "tags": []
   },
   "outputs": [],
   "source": [
    "# conn = duckdbConnect()\n",
    "conn.execute(\"SELECT * FROM EURUSDtest\")\n",
    "conn.fetchall()"
   ]
  },
  {
   "cell_type": "code",
   "execution_count": 121,
   "id": "c6f53d67-684b-4b34-a573-472986ee3e47",
   "metadata": {
    "tags": []
   },
   "outputs": [],
   "source": [
    "start = timeit.default_timer()\n",
    "dfDuckdb = duckdbWrite(\"file.db\", data, dbname)\n",
    "stop = timeit.default_timer()\n",
    "duckdb_write_execution_time = stop - start"
   ]
  },
  {
   "cell_type": "code",
   "execution_count": 122,
   "id": "102f363a-b35d-433c-8752-7acc85c27bdc",
   "metadata": {
    "tags": []
   },
   "outputs": [
    {
     "name": "stdout",
     "output_type": "stream",
     "text": [
      "2.02947735300404\n"
     ]
    }
   ],
   "source": [
    "print(duckdb_write_execution_time)"
   ]
  },
  {
   "cell_type": "code",
   "execution_count": 123,
   "id": "f630fc1a-0d52-4e3a-9dfe-1ec60d188033",
   "metadata": {
    "tags": []
   },
   "outputs": [],
   "source": [
    "start = timeit.default_timer()\n",
    "dfDuckdb = duckdbRead(\"file.db\")\n",
    "stop = timeit.default_timer()\n",
    "duckdb_read_execution_time = stop - start"
   ]
  },
  {
   "cell_type": "code",
   "execution_count": 124,
   "id": "c6abdaaa-3ac2-425b-9208-d6cb79afe966",
   "metadata": {
    "tags": []
   },
   "outputs": [
    {
     "name": "stdout",
     "output_type": "stream",
     "text": [
      "0.5635835029970622\n"
     ]
    }
   ],
   "source": [
    "print(duckdb_read_execution_time)"
   ]
  },
  {
   "cell_type": "markdown",
   "id": "4409cc89-ed14-4313-ac89-65b826038533",
   "metadata": {
    "tags": []
   },
   "source": [
    "### Kdb+"
   ]
  },
  {
   "cell_type": "code",
   "execution_count": 31,
   "id": "14f63810-1943-4e28-9bce-2148be6be02d",
   "metadata": {},
   "outputs": [],
   "source": [
    "# numpy version boolean fix\n",
    "np.bool = np.bool_"
   ]
  },
  {
   "cell_type": "code",
   "execution_count": 25,
   "id": "bbd217e3-695f-4fa6-ae42-83db1dde8311",
   "metadata": {},
   "outputs": [],
   "source": [
    "# functions\n",
    "# cd ~ && q/l64/q -p 5001\n",
    "\n",
    "\n",
    "def kdbConnect():\n",
    "    q = qconnection.QConnection(host=\"localhost\", port=5001)\n",
    "    q.open()\n",
    "    return q\n",
    "\n",
    "\n",
    "def kdbLoadCsv(file=\"out.csv\"):\n",
    "    data = pd.read_csv(file)\n",
    "    return data\n",
    "\n",
    "\n",
    "def kdbWrite():\n",
    "    q = kdbConnect()\n",
    "    data = kdbLoadCsv()\n",
    "    q.sendSync(\"{t::x}\", data)\n",
    "    q.sendSync(\"`:/home/sandman/q/tab1 set t\")\n",
    "    q.close()\n",
    "    return 0\n",
    "\n",
    "\n",
    "def kdbRead():\n",
    "    q = kdbConnect()\n",
    "    # df2 = q.sendSync(\"tab2: get `:/home/sandman/q/tab1\")\n",
    "    # df2 = q.sendSync(\"tab2\")\n",
    "    df = pd.DataFrame(q(\"t\"))  # , pandas=True))\n",
    "    # df3 = q.sendSync(\"select from t\")\n",
    "    # ver todos esses loads\n",
    "    q.close()\n",
    "    return 0"
   ]
  },
  {
   "cell_type": "code",
   "execution_count": 28,
   "id": "67f0c26e-44fb-40b0-a147-5d97bfbbded2",
   "metadata": {},
   "outputs": [],
   "source": [
    "# write\n",
    "start = timeit.default_timer()\n",
    "dfKdb = kdbWrite()\n",
    "stop = timeit.default_timer()\n",
    "kdb_write_execution_time = stop - start"
   ]
  },
  {
   "cell_type": "code",
   "execution_count": 29,
   "id": "dcb200be-ffc9-4bcc-8554-5740fb420ab5",
   "metadata": {},
   "outputs": [
    {
     "name": "stdout",
     "output_type": "stream",
     "text": [
      "2.8739770100000896\n"
     ]
    }
   ],
   "source": [
    "# print write time\n",
    "print(kdb_write_execution_time)"
   ]
  },
  {
   "cell_type": "code",
   "execution_count": 30,
   "id": "d4ce0203-b0c7-440b-a3ca-d7b2a7682474",
   "metadata": {},
   "outputs": [],
   "source": [
    "# read\n",
    "start = timeit.default_timer()\n",
    "dfKdb = kdbRead()\n",
    "stop = timeit.default_timer()\n",
    "kdb_read_execution_time = stop - start"
   ]
  },
  {
   "cell_type": "code",
   "execution_count": null,
   "id": "1a16fd76-2158-40fe-9285-c53791f8ed51",
   "metadata": {},
   "outputs": [
    {
     "name": "stdout",
     "output_type": "stream",
     "text": [
      "4.153738381999574\n"
     ]
    }
   ],
   "source": [
    "# print read time\n",
    "print(kdb_read_execution_time)"
   ]
  },
  {
   "cell_type": "markdown",
   "id": "7c923c16-d741-4903-8493-81ff3c4d300e",
   "metadata": {
    "tags": []
   },
   "source": [
    "## Table"
   ]
  },
  {
   "cell_type": "code",
   "execution_count": 209,
   "id": "3a09558c-73e6-4324-9fc5-782fcd0d12e5",
   "metadata": {
    "tags": []
   },
   "outputs": [
    {
     "data": {
      "text/html": [
       "<div>\n",
       "<style scoped>\n",
       "    .dataframe tbody tr th:only-of-type {\n",
       "        vertical-align: middle;\n",
       "    }\n",
       "\n",
       "    .dataframe tbody tr th {\n",
       "        vertical-align: top;\n",
       "    }\n",
       "\n",
       "    .dataframe thead th {\n",
       "        text-align: right;\n",
       "    }\n",
       "</style>\n",
       "<table border=\"1\" class=\"dataframe\">\n",
       "  <thead>\n",
       "    <tr style=\"text-align: right;\">\n",
       "      <th></th>\n",
       "      <th>Write Time</th>\n",
       "      <th>Read Time</th>\n",
       "      <th>Total Time</th>\n",
       "    </tr>\n",
       "  </thead>\n",
       "  <tbody>\n",
       "    <tr>\n",
       "      <th>Click House</th>\n",
       "      <td>5.80 sec</td>\n",
       "      <td>7.57 sec</td>\n",
       "      <td>13.38 sec</td>\n",
       "    </tr>\n",
       "    <tr>\n",
       "      <th>InfluxDb</th>\n",
       "      <td>87.55 sec</td>\n",
       "      <td>69.67 sec</td>\n",
       "      <td>157.22 sec</td>\n",
       "    </tr>\n",
       "    <tr>\n",
       "      <th>Postgresql</th>\n",
       "      <td>24.82 sec</td>\n",
       "      <td>18.28 sec</td>\n",
       "      <td>43.10 sec</td>\n",
       "    </tr>\n",
       "    <tr>\n",
       "      <th>S3</th>\n",
       "      <td>4.16 sec</td>\n",
       "      <td>0.51 sec</td>\n",
       "      <td>4.67 sec</td>\n",
       "    </tr>\n",
       "    <tr>\n",
       "      <th>MongoDb</th>\n",
       "      <td>54.57 sec</td>\n",
       "      <td>34.66 sec</td>\n",
       "      <td>89.23 sec</td>\n",
       "    </tr>\n",
       "    <tr>\n",
       "      <th>DuckDb</th>\n",
       "      <td>2.03 sec</td>\n",
       "      <td>0.56 sec</td>\n",
       "      <td>2.59 sec</td>\n",
       "    </tr>\n",
       "    <tr>\n",
       "      <th>Kdb+</th>\n",
       "      <td>2.87 sec</td>\n",
       "      <td>4.15 sec</td>\n",
       "      <td>7.03 sec</td>\n",
       "    </tr>\n",
       "  </tbody>\n",
       "</table>\n",
       "</div>"
      ],
      "text/plain": [
       "            Write Time  Read Time  Total Time\n",
       "Click House   5.80 sec   7.57 sec   13.38 sec\n",
       "InfluxDb     87.55 sec  69.67 sec  157.22 sec\n",
       "Postgresql   24.82 sec  18.28 sec   43.10 sec\n",
       "S3            4.16 sec   0.51 sec    4.67 sec\n",
       "MongoDb      54.57 sec  34.66 sec   89.23 sec\n",
       "DuckDb        2.03 sec   0.56 sec    2.59 sec\n",
       "Kdb+          2.87 sec   4.15 sec    7.03 sec"
      ]
     },
     "execution_count": 209,
     "metadata": {},
     "output_type": "execute_result"
    }
   ],
   "source": [
    "# duckdb_write_execution_time\n",
    "s = \" sec\"\n",
    "data = [\n",
    "    [\n",
    "        \"{:.2f}\".format(cHouse_write_execution_time) + s,\n",
    "        \"{:.2f}\".format(cHouse_read_execution_time) + s,\n",
    "        \"{:.2f}\".format(cHouse_write_execution_time + cHouse_read_execution_time) + s,\n",
    "    ],\n",
    "    [\n",
    "        \"{:.2f}\".format(influxdb_write_execution_time) + s,\n",
    "        \"{:.2f}\".format(influxdb_read_execution_time) + s,\n",
    "        \"{:.2f}\".format(influxdb_write_execution_time + influxdb_read_execution_time)\n",
    "        + s,\n",
    "    ],\n",
    "    [\n",
    "        \"{:.2f}\".format(psql_write_execution_time) + s,\n",
    "        \"{:.2f}\".format(psql_read_execution_time) + s,\n",
    "        \"{:.2f}\".format(psql_write_execution_time + psql_read_execution_time) + s,\n",
    "    ],\n",
    "    [\n",
    "        \"{:.2f}\".format(s3_write_execution_time) + s,\n",
    "        \"{:.2f}\".format(s3_read_execution_time) + s,\n",
    "        \"{:.2f}\".format(s3_write_execution_time + s3_read_execution_time) + s,\n",
    "    ],\n",
    "    [\n",
    "        \"{:.2f}\".format(mongo_write_execution_time) + s,\n",
    "        \"{:.2f}\".format(mongo_read_execution_time) + s,\n",
    "        \"{:.2f}\".format(mongo_write_execution_time + mongo_read_execution_time) + s,\n",
    "    ],\n",
    "    [\n",
    "        \"{:.2f}\".format(duckdb_write_execution_time) + s,\n",
    "        \"{:.2f}\".format(duckdb_read_execution_time) + s,\n",
    "        \"{:.2f}\".format(duckdb_write_execution_time + duckdb_read_execution_time) + s,\n",
    "    ],\n",
    "    [\n",
    "        \"{:.2f}\".format(kdb_write_execution_time) + s,\n",
    "        \"{:.2f}\".format(kdb_read_execution_time) + s,\n",
    "        \"{:.2f}\".format(kdb_write_execution_time + kdb_read_execution_time) + s,\n",
    "    ],\n",
    "]\n",
    "\n",
    "index_labels = [\n",
    "    \"Click House\",\n",
    "    \"InfluxDb\",\n",
    "    \"Postgresql\",\n",
    "    \"S3\",\n",
    "    \"MongoDb\",\n",
    "    \"DuckDb\",\n",
    "    \"Kdb+\",\n",
    "]\n",
    "dff = pd.DataFrame(\n",
    "    data, columns=[\"Write Time\", \"Read Time\", \"Total Time\"], index=index_labels\n",
    ")\n",
    "dff"
   ]
  },
  {
   "cell_type": "markdown",
   "id": "7baf1fd1-2afd-41b5-a579-33f053e4ddfc",
   "metadata": {},
   "source": [
    "## Graph\n"
   ]
  },
  {
   "cell_type": "code",
   "execution_count": 221,
   "id": "a9740731-6077-4bf1-bb65-b4c4225ac79b",
   "metadata": {
    "tags": []
   },
   "outputs": [
    {
     "data": {
      "image/png": "[encoded data removed]",
      "text/plain": [
       "<Figure size 1400x480 with 1 Axes>"
      ]
     },
     "metadata": {},
     "output_type": "display_data"
    }
   ],
   "source": [
    "def plot(dark):\n",
    "    mpl_style(dark)\n",
    "    # plt.subplots(figsize=(16, 8))\n",
    "    plt.figure().set_figwidth(14)\n",
    "    x = np.arange(7)  # change here\n",
    "    width = 0.40\n",
    "    y1 = [\n",
    "        cHouse_read_execution_time,\n",
    "        influxdb_read_execution_time,\n",
    "        psql_read_execution_time,\n",
    "        s3_read_execution_time,\n",
    "        mongo_read_execution_time,\n",
    "        duckdb_read_execution_time,\n",
    "        kdb_read_execution_time,\n",
    "    ]  # change here\n",
    "    y2 = [\n",
    "        cHouse_write_execution_time,\n",
    "        influxdb_write_execution_time,\n",
    "        psql_write_execution_time,\n",
    "        s3_write_execution_time,\n",
    "        mongo_write_execution_time,\n",
    "        duckdb_write_execution_time,\n",
    "        kdb_write_execution_time,\n",
    "    ]  # change here\n",
    "    plt.bar(x - 0.2, y2, width)\n",
    "    plt.bar(x + 0.2, y1, width)\n",
    "    plt.xticks(\n",
    "        x,\n",
    "        [\n",
    "            \"Click House\",\n",
    "            \"InfluxDb\",\n",
    "            \"Postgresql\",\n",
    "            \"S3 Parquet\",\n",
    "            \"MongoDb\",\n",
    "            \"DuckDb\",\n",
    "            \"Kdb+\",\n",
    "        ],\n",
    "    )\n",
    "    plt.xlabel(\"Databases\")\n",
    "    plt.ylabel(\"Seconds\")\n",
    "    plt.legend([\"Write\", \"Read\"])  # ver\n",
    "    plt.rcParams.update({\"font.size\": 18})\n",
    "    plt.title(\"Fastest Databases  Comparation (Write/Read)\")\n",
    "    plt.show()\n",
    "\n",
    "\n",
    "plot(dark=True)"
   ]
  },
  {
   "cell_type": "markdown",
   "id": "aeda3a71-f57d-419d-98b4-b711ea2e61af",
   "metadata": {},
   "source": [
    "## Graph (bests)"
   ]
  },
  {
   "cell_type": "code",
   "execution_count": 220,
   "id": "810e8a81-0a20-40aa-bb07-7bb71094b8d2",
   "metadata": {
    "tags": []
   },
   "outputs": [
    {
     "data": {
      "image/png": "[encoded data removed]",
      "text/plain": [
       "<Figure size 1500x480 with 1 Axes>"
      ]
     },
     "metadata": {},
     "output_type": "display_data"
    }
   ],
   "source": [
    "def plot(dark):\n",
    "    mpl_style(dark)\n",
    "    plt.figure().set_figwidth(15, 10)\n",
    "    x = np.arange(4)  # change here\n",
    "    width = 0.40\n",
    "    y1 = [\n",
    "        cHouse_read_execution_time,\n",
    "        s3_read_execution_time,\n",
    "        duckdb_read_execution_time,\n",
    "        kdb_read_execution_time,\n",
    "    ]  # change here\n",
    "    y2 = [\n",
    "        cHouse_write_execution_time,\n",
    "        s3_write_execution_time,\n",
    "        duckdb_write_execution_time,\n",
    "        kdb_write_execution_time,\n",
    "    ]  # change here\n",
    "    plt.bar(x - 0.2, y2, width)\n",
    "    plt.bar(x + 0.2, y1, width)\n",
    "    plt.xticks(\n",
    "        x,\n",
    "        [\n",
    "            \"Click House\",\n",
    "            \"S3 Parquet\",\n",
    "            \"DuckDb\",\n",
    "            \"Kdb+\",\n",
    "        ],\n",
    "    )\n",
    "    plt.xlabel(\"Databases\")\n",
    "    plt.ylabel(\"Seconds\")\n",
    "    plt.legend([\"Write\", \"Read\"])  # ver\n",
    "    plt.rcParams.update({\"font.size\": 8})\n",
    "    plt.style.use(\"dark_background\")\n",
    "    plt.title(\"Top 4 fastest Databases on Benchmark -  Graph Comparation\")\n",
    "    plt.show()\n",
    "\n",
    "\n",
    "plot(dark=True)"
   ]
  },
  {
   "cell_type": "code",
   "execution_count": 225,
   "id": "e58920d6-2a99-4ce4-9503-05873d61ffc3",
   "metadata": {
    "tags": []
   },
   "outputs": [
    {
     "data": {
      "image/png": "[encoded data removed]",
      "text/plain": [
       "<Figure size 1200x480 with 1 Axes>"
      ]
     },
     "metadata": {},
     "output_type": "display_data"
    }
   ],
   "source": [
    "originalCsv = 106.8\n",
    "clickHouse_size_on_disk = 20\n",
    "influxDb_size_on_disk = 84\n",
    "postgresql_size_on_disk = 128\n",
    "S3_size_size_on_disk = 31.8\n",
    "mongoDb_size_on_disk = 174.5\n",
    "DuckDb_size_on_disk = 36.5\n",
    "Kdb_size_on_disk = 99.2\n",
    "\n",
    "\n",
    "def plot(dark):\n",
    "    mpl_style(dark)\n",
    "    plt.figure().set_figwidth(12, 10)\n",
    "    x = np.arange(8)  # change here\n",
    "    width = 0.50\n",
    "    y1 = [\n",
    "        originalCsv,\n",
    "        clickHouse_size_on_disk,\n",
    "        influxDb_size_on_disk,\n",
    "        postgresql_size_on_disk,\n",
    "        S3_size_size_on_disk,\n",
    "        mongoDb_size_on_disk,\n",
    "        DuckDb_size_on_disk,\n",
    "        Kdb_size_on_disk,\n",
    "    ]  # change here\n",
    "\n",
    "    # plt.bar(x - 0.2, y2, width)\n",
    "    plt.bar(x + 0.0, y1, width, color=(0.2, 0.4, 0.6, 0.6))\n",
    "    plt.xticks(\n",
    "        x,\n",
    "        [\n",
    "            \"Original CSV\",\n",
    "            \"Click House\",\n",
    "            \"InfluxDb\",\n",
    "            \"Postgresql\",\n",
    "            \"S3 Parquet\",\n",
    "            \"MongoDb\",\n",
    "            \"DuckDb\",\n",
    "            \"Kdb+\",\n",
    "        ],\n",
    "    )\n",
    "    plt.xlabel(\"Databases\")\n",
    "    plt.ylabel(\"Megabytes\")\n",
    "    plt.legend([\"Size Ocupied on Disk In MB\"])  # ver\n",
    "    plt.rcParams.update({\"font.size\": 8})\n",
    "    plt.style.use(\"dark_background\")\n",
    "    plt.title(\"Size On Disk Occupied with the Same Archive on different Databases\")\n",
    "    plt.show()\n",
    "\n",
    "\n",
    "plot(dark=True)"
   ]
  },
  {
   "cell_type": "code",
   "execution_count": null,
   "id": "428abef6-c1df-4abf-83f8-a74cb8af4208",
   "metadata": {},
   "outputs": [],
   "source": []
  }
 ],
 "metadata": {
  "kernelspec": {
   "display_name": "Python 3 (ipykernel)",
   "language": "python",
   "name": "python3"
  },
  "language_info": {
   "codemirror_mode": {
    "name": "ipython",
    "version": 3
   },
   "file_extension": ".py",
   "mimetype": "text/x-python",
   "name": "python",
   "nbconvert_exporter": "python",
   "pygments_lexer": "ipython3",
   "version": "3.10.11"
  },
  "widgets": {
   "application/vnd.jupyter.widget-state+json": {
    "state": {},
    "version_major": 2,
    "version_minor": 0
   }
  }
 },
 "nbformat": 4,
 "nbformat_minor": 5
}
